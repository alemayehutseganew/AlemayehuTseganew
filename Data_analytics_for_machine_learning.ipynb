{
  "cells": [
    {
      "cell_type": "markdown",
      "metadata": {
        "id": "view-in-github",
        "colab_type": "text"
      },
      "source": [
        "<a href=\"https://colab.research.google.com/github/alemayehutseganew/AlemayehuTseganew/blob/main/Data_analytics_for_machine_learning.ipynb\" target=\"_parent\"><img src=\"https://colab.research.google.com/assets/colab-badge.svg\" alt=\"Open In Colab\"/></a>"
      ]
    },
    {
      "cell_type": "code",
      "source": [
        "# @title START!"
      ],
      "metadata": {
        "id": "yoiXrqTVMG_7"
      },
      "execution_count": null,
      "outputs": []
    },
    {
      "cell_type": "code",
      "source": [
        "#@title 📖COURSE INTRODUCTION: Data analytics for machine learning\n",
        "#Data Analytics is the process of understanding, cleaning, and preparing data so ML models can use it effectively."
      ],
      "metadata": {
        "id": "tx6EtNRWiEoS"
      },
      "execution_count": null,
      "outputs": []
    },
    {
      "cell_type": "code",
      "source": [
        "# @title 📖 Lesson 1: What is Data Analytics in Machine Learning?\n",
        "\n",
        "# Concept (Clear & Simple):\n",
        "\n",
        "# In Machine Learning (ML), algorithms learn patterns from data.\n",
        "\n",
        "# But raw data is usually messy, incomplete, and noisy.\n",
        "\n",
        "# Data Analytics is the process of understanding, cleaning, and preparing data so ML models can use it effectively.\n",
        "\n",
        "\n",
        "\n",
        "import pandas as pd\n",
        "\n",
        "data={\n",
        "    \"name\" : [\"ayele\",\"alemu\",\"kebede\",\"Mamo\",None],\n",
        "    \"age\" : [23,None,43,23,67]\n",
        "}\n",
        "df=pd.DataFrame(data)\n",
        "print(df)\n",
        "print(df.isnull().sum())"
      ],
      "metadata": {
        "collapsed": true,
        "id": "_r-ONGDQiRtb",
        "outputId": "aef10120-6768-49cd-f909-23e8dee69951",
        "colab": {
          "base_uri": "https://localhost:8080/"
        }
      },
      "execution_count": 3,
      "outputs": [
        {
          "output_type": "stream",
          "name": "stdout",
          "text": [
            "     name   age\n",
            "0   ayele  23.0\n",
            "1   alemu   NaN\n",
            "2  kebede  43.0\n",
            "3    Mamo  23.0\n",
            "4    None  67.0\n",
            "name    1\n",
            "age     1\n",
            "dtype: int64\n"
          ]
        }
      ]
    },
    {
      "cell_type": "code",
      "source": [
        "# @title 📖Lesson 2: Main Data Types\n",
        "# 1.Structured Data\n",
        "# 2. Structured Data\n",
        "# 3. Categorical Data\n",
        "# 4. Numerical Data\n",
        "# 5. Time-series Data\n",
        "import pandas as pd\n",
        "\n",
        "# Example dataset\n",
        "data = {\n",
        "    \"CustomerID\": [101, 102, 103],\n",
        "    \"Gender\": [\"Male\", \"Female\", \"Male\"],   # Categorical\n",
        "    \"Age\": [25, 30, 40],                   # Numerical (discrete)\n",
        "    \"Salary\": [50000.0, 60000.5, 80000.0], # Numerical (continuous)\n",
        "    \"Signup_Date\": pd.to_datetime([\"2023-01-01\", \"2023-02-10\", \"2023-03-15\"]) # Time-series\n",
        "}\n",
        "\n",
        "df = pd.DataFrame(data)\n",
        "print(df)\n",
        "print(df.dtypes)\n",
        "\n",
        "# Categorical → needs encoding.\n",
        "\n",
        "# Numerical → may need scaling.\n",
        "\n",
        "# Time-series → needs time-based features.\n",
        "\n",
        "# Unstructured → needs advanced techniques (NLP, CV)."
      ],
      "metadata": {
        "collapsed": true,
        "id": "rPEuc7Zoz0mZ",
        "outputId": "75fceb9c-a8a5-4a6c-c97f-ba53db6e4d75",
        "colab": {
          "base_uri": "https://localhost:8080/"
        }
      },
      "execution_count": null,
      "outputs": [
        {
          "output_type": "stream",
          "name": "stdout",
          "text": [
            "   CustomerID  Gender  Age   Salary Signup_Date\n",
            "0         101    Male   25  50000.0  2023-01-01\n",
            "1         102  Female   30  60000.5  2023-02-10\n",
            "2         103    Male   40  80000.0  2023-03-15\n",
            "CustomerID              int64\n",
            "Gender                 object\n",
            "Age                     int64\n",
            "Salary                float64\n",
            "Signup_Date    datetime64[ns]\n",
            "dtype: object\n"
          ]
        }
      ]
    },
    {
      "cell_type": "code",
      "source": [
        "# @title 📖Lesson 3: Loading and Exploring Data(Exploratory Data Analysis (EDA))\n",
        "import pandas as pd\n",
        "\n",
        "# Load dataset (replace with your file path if local)\n",
        "url = \"https://raw.githubusercontent.com/datasciencedojo/datasets/master/titanic.csv\"\n",
        "df = pd.read_csv(url)\n",
        "\n",
        "# 1. First look\n",
        "print(\"First 5 rows:\")\n",
        "print(df.head())\n",
        "\n",
        "# 2. Shape\n",
        "print(\"\\nShape of dataset:\",df.shape )\n",
        "\n",
        "# 3. Info\n",
        "print(\"\\nDataset Info:\")\n",
        "print(df.info())\n",
        "\n",
        "# 4. Statistics\n",
        "print(\"\\nSummary Statistics:\")\n",
        "print(df.describe())\n"
      ],
      "metadata": {
        "colab": {
          "base_uri": "https://localhost:8080/"
        },
        "collapsed": true,
        "id": "QqXB63af3h3e",
        "outputId": "d8ec6ea4-c17b-4daf-83df-81171bd17693"
      },
      "execution_count": null,
      "outputs": [
        {
          "output_type": "stream",
          "name": "stdout",
          "text": [
            "First 5 rows:\n",
            "   PassengerId  Survived  Pclass  \\\n",
            "0            1         0       3   \n",
            "1            2         1       1   \n",
            "2            3         1       3   \n",
            "3            4         1       1   \n",
            "4            5         0       3   \n",
            "\n",
            "                                                Name     Sex   Age  SibSp  \\\n",
            "0                            Braund, Mr. Owen Harris    male  22.0      1   \n",
            "1  Cumings, Mrs. John Bradley (Florence Briggs Th...  female  38.0      1   \n",
            "2                             Heikkinen, Miss. Laina  female  26.0      0   \n",
            "3       Futrelle, Mrs. Jacques Heath (Lily May Peel)  female  35.0      1   \n",
            "4                           Allen, Mr. William Henry    male  35.0      0   \n",
            "\n",
            "   Parch            Ticket     Fare Cabin Embarked  \n",
            "0      0         A/5 21171   7.2500   NaN        S  \n",
            "1      0          PC 17599  71.2833   C85        C  \n",
            "2      0  STON/O2. 3101282   7.9250   NaN        S  \n",
            "3      0            113803  53.1000  C123        S  \n",
            "4      0            373450   8.0500   NaN        S  \n",
            "\n",
            "Shape of dataset: (891, 12)\n",
            "\n",
            "Dataset Info:\n",
            "<class 'pandas.core.frame.DataFrame'>\n",
            "RangeIndex: 891 entries, 0 to 890\n",
            "Data columns (total 12 columns):\n",
            " #   Column       Non-Null Count  Dtype  \n",
            "---  ------       --------------  -----  \n",
            " 0   PassengerId  891 non-null    int64  \n",
            " 1   Survived     891 non-null    int64  \n",
            " 2   Pclass       891 non-null    int64  \n",
            " 3   Name         891 non-null    object \n",
            " 4   Sex          891 non-null    object \n",
            " 5   Age          714 non-null    float64\n",
            " 6   SibSp        891 non-null    int64  \n",
            " 7   Parch        891 non-null    int64  \n",
            " 8   Ticket       891 non-null    object \n",
            " 9   Fare         891 non-null    float64\n",
            " 10  Cabin        204 non-null    object \n",
            " 11  Embarked     889 non-null    object \n",
            "dtypes: float64(2), int64(5), object(5)\n",
            "memory usage: 83.7+ KB\n",
            "None\n",
            "\n",
            "Summary Statistics:\n",
            "       PassengerId    Survived      Pclass         Age       SibSp  \\\n",
            "count   891.000000  891.000000  891.000000  714.000000  891.000000   \n",
            "mean    446.000000    0.383838    2.308642   29.699118    0.523008   \n",
            "std     257.353842    0.486592    0.836071   14.526497    1.102743   \n",
            "min       1.000000    0.000000    1.000000    0.420000    0.000000   \n",
            "25%     223.500000    0.000000    2.000000   20.125000    0.000000   \n",
            "50%     446.000000    0.000000    3.000000   28.000000    0.000000   \n",
            "75%     668.500000    1.000000    3.000000   38.000000    1.000000   \n",
            "max     891.000000    1.000000    3.000000   80.000000    8.000000   \n",
            "\n",
            "            Parch        Fare  \n",
            "count  891.000000  891.000000  \n",
            "mean     0.381594   32.204208  \n",
            "std      0.806057   49.693429  \n",
            "min      0.000000    0.000000  \n",
            "25%      0.000000    7.910400  \n",
            "50%      0.000000   14.454200  \n",
            "75%      0.000000   31.000000  \n",
            "max      6.000000  512.329200  \n"
          ]
        }
      ]
    },
    {
      "cell_type": "code",
      "source": [
        "# @title 📖Lesson 4: Handling Missing Values\n",
        "import pandas as pd\n",
        "\n",
        "# Sample dataset\n",
        "data = {\n",
        "    \"Name\": [\"Alice\", \"Bob\", \"Charlie\", \"David\", \"Eva\"],\n",
        "    \"Age\": [25, None, 30, None, 22],\n",
        "    \"Gender\": [\"F\", \"M\", \"M\", None, \"F\"]\n",
        "}\n",
        "\n",
        "df=pd.DataFrame(data)\n",
        "print(df.shape)\n",
        "print(df.head())\n",
        "print(df.info())\n",
        "print(df.describe())\n",
        "\n",
        "print(df[\"Age\"].fillna(df[\"Age\"].median()))\n",
        "print(df[\"Gender\"].fillna(df[\"Gender\"].mode))\n",
        "print(df[\"Age\"].dropna())"
      ],
      "metadata": {
        "colab": {
          "base_uri": "https://localhost:8080/"
        },
        "collapsed": true,
        "id": "8Sz1cvsj9UI1",
        "outputId": "f86ee80b-7230-4fa0-f91e-038aa8d48f0b"
      },
      "execution_count": null,
      "outputs": [
        {
          "output_type": "stream",
          "name": "stdout",
          "text": [
            "(5, 3)\n",
            "      Name   Age Gender\n",
            "0    Alice  25.0      F\n",
            "1      Bob   NaN      M\n",
            "2  Charlie  30.0      M\n",
            "3    David   NaN   None\n",
            "4      Eva  22.0      F\n",
            "<class 'pandas.core.frame.DataFrame'>\n",
            "RangeIndex: 5 entries, 0 to 4\n",
            "Data columns (total 3 columns):\n",
            " #   Column  Non-Null Count  Dtype  \n",
            "---  ------  --------------  -----  \n",
            " 0   Name    5 non-null      object \n",
            " 1   Age     3 non-null      float64\n",
            " 2   Gender  4 non-null      object \n",
            "dtypes: float64(1), object(2)\n",
            "memory usage: 252.0+ bytes\n",
            "None\n",
            "             Age\n",
            "count   3.000000\n",
            "mean   25.666667\n",
            "std     4.041452\n",
            "min    22.000000\n",
            "25%    23.500000\n",
            "50%    25.000000\n",
            "75%    27.500000\n",
            "max    30.000000\n",
            "0    25.0\n",
            "1    25.0\n",
            "2    30.0\n",
            "3    25.0\n",
            "4    22.0\n",
            "Name: Age, dtype: float64\n",
            "0                                                    F\n",
            "1                                                    M\n",
            "2                                                    M\n",
            "3    <bound method Series.mode of 0       F\\n1     ...\n",
            "4                                                    F\n",
            "Name: Gender, dtype: object\n",
            "0    25.0\n",
            "2    30.0\n",
            "4    22.0\n",
            "Name: Age, dtype: float64\n"
          ]
        }
      ]
    },
    {
      "cell_type": "code",
      "source": [
        "# @title 📖Lesson 5: Handling Outliers\n",
        "import pandas as pd\n",
        "import numpy as np\n",
        "import matplotlib.pyplot as plt\n",
        "\n",
        "# Sample dataset\n",
        "data = {'Salary': [30000, 32000, 31000, 30500, 500000]}  # 500000 is an outlier\n",
        "df = pd.DataFrame(data)\n",
        "\n",
        "\n",
        "\n",
        "# plt.boxplot(df['Salary'])\n",
        "Q1=df['Salary'].quantile(0.25)\n",
        "Q3=df['Salary'].quantile(0.75)\n",
        "print(Q1,Q3)\n",
        "IQR=q3-q1\n",
        "\n",
        "outliers = df[(df['Salary'] < Q1 - 1.5*IQR) | (df['Salary'] > Q3 + 1.5*IQR)]\n",
        "df_clean=df[~((df['Salary'] < Q1 - 1.5*IQR) | (df['Salary'] > Q3 + 1.5*IQR))]\n",
        "plt.boxplot(df['Salary'])\n",
        "\n",
        "print(\"Outliers detected:\\n\", df_clean)\n",
        "# plt.title(\"handling outlier\")\n",
        "# plt.xlabel(\"x-axis\")\n",
        "# plt.ylabel(\"y-axis\")\n",
        "# plt.show()"
      ],
      "metadata": {
        "colab": {
          "base_uri": "https://localhost:8080/",
          "height": 551
        },
        "collapsed": true,
        "id": "4EdAIL6PQzkg",
        "outputId": "c99a5864-aed7-412a-986f-ed439bfb9e1d"
      },
      "execution_count": null,
      "outputs": [
        {
          "output_type": "stream",
          "name": "stdout",
          "text": [
            "30500.0 32000.0\n",
            "Outliers detected:\n",
            "    Salary\n",
            "0   30000\n",
            "1   32000\n",
            "2   31000\n",
            "3   30500\n"
          ]
        },
        {
          "output_type": "display_data",
          "data": {
            "text/plain": [
              "<Figure size 640x480 with 1 Axes>"
            ],
            "image/png": "[encoded data removed]"
          },
          "metadata": {}
        }
      ]
    },
    {
      "cell_type": "code",
      "source": [
        "# @title 📖Lesson 6: Handling Duplicates & Inconsistencies\n",
        "\n",
        "\n",
        "data = {\n",
        "    \"CustomerID\": [1, 2, 2, 3, 4],\n",
        "    \"Gender\": [\"Male\", \"male\", \"M\", \"Female\", \"F\"],\n",
        "    \"Country\": [\"USA\", \"U.S.A\", \"usa\", \"India\", \"India\"],\n",
        "    \"Gender\": [\"Male\", \"male\", \"M\", \"Female\", \"F\"],\n",
        "}\n",
        "\n",
        "df=pd.DataFrame(data)\n",
        "print(\"the orginal data is\",df)\n",
        "\n",
        "df=df.drop_duplicates()\n",
        "print(\"after drop\",df)\n",
        "\n",
        "df['Gender']=df['Gender'].replace({'male':'Male','m':'Male','M':'Male','f':'Female','F':'Female'})\n",
        "\n",
        "\n",
        "print(df['Gender'])\n",
        "\n",
        "df['Country']=df['Country'].str.upper().str.replace(\".\",\"\")\n",
        "\n",
        "print(\"cleaned\",df)"
      ],
      "metadata": {
        "colab": {
          "base_uri": "https://localhost:8080/"
        },
        "id": "FyOp3xYgfHkO",
        "outputId": "115645f5-a2b6-430a-9dd6-7badef2cad76",
        "collapsed": true
      },
      "execution_count": null,
      "outputs": [
        {
          "output_type": "stream",
          "name": "stdout",
          "text": [
            "the orginal data is    CustomerID  Gender Country\n",
            "0           1    Male     USA\n",
            "1           2    male   U.S.A\n",
            "2           2       M     usa\n",
            "3           3  Female   India\n",
            "4           4       F   India\n",
            "after drop    CustomerID  Gender Country\n",
            "0           1    Male     USA\n",
            "1           2    male   U.S.A\n",
            "2           2       M     usa\n",
            "3           3  Female   India\n",
            "4           4       F   India\n",
            "0      Male\n",
            "1      Male\n",
            "2      Male\n",
            "3    Female\n",
            "4    Female\n",
            "Name: Gender, dtype: object\n",
            "cleaned    CustomerID  Gender Country\n",
            "0           1    Male     USA\n",
            "1           2    Male     USA\n",
            "2           2    Male     USA\n",
            "3           3  Female   INDIA\n",
            "4           4  Female   INDIA\n"
          ]
        }
      ]
    },
    {
      "cell_type": "code",
      "source": [
        "# @title 📖 Lesson 7: Feature Scaling\n",
        "from sklearn.preprocessing import MinMaxScaler, StandardScaler, OneHotEncoder,LabelEncoder,OrdinalEncoder\n",
        "data = {\n",
        "    \"Age\": [18, 22, 25, 30, 40],\n",
        "    \"Salary\": [20000, 30000, 40000, 50000, 100000]\n",
        "}\n",
        "\n",
        "df=pd.DataFrame(data)\n",
        "print(f\"orginala data{df}\\n\")\n",
        "\n",
        "#scaling\n",
        "#x_scaled = (x - min(x)) / (max(x) - min(x))\n",
        "scaler=MinMaxScaler()\n",
        "df_norm=scaler.fit_transform(df)\n",
        "print(\"\\n\",df_norm)\n",
        "#Standardize\n",
        "#z = (x - μ) / σ\n",
        "standard=StandardScaler()\n",
        "print(\"\\n\",standard.fit_transform(df))"
      ],
      "metadata": {
        "colab": {
          "base_uri": "https://localhost:8080/"
        },
        "collapsed": true,
        "id": "McrQEl55c0QH",
        "outputId": "571469e3-790e-4a1c-d3f5-24e8ee91ec65"
      },
      "execution_count": 50,
      "outputs": [
        {
          "output_type": "stream",
          "name": "stdout",
          "text": [
            "orginala data   Age  Salary\n",
            "0   18   20000\n",
            "1   22   30000\n",
            "2   25   40000\n",
            "3   30   50000\n",
            "4   40  100000\n",
            "\n",
            "\n",
            " [[0.         0.        ]\n",
            " [0.18181818 0.125     ]\n",
            " [0.31818182 0.25      ]\n",
            " [0.54545455 0.375     ]\n",
            " [1.         1.        ]]\n",
            "\n",
            " [[-1.18585412 -1.00514142]\n",
            " [-0.65880785 -0.64616234]\n",
            " [-0.26352314 -0.28718326]\n",
            " [ 0.39528471  0.07179582]\n",
            " [ 1.7129004   1.86669121]]\n"
          ]
        }
      ]
    },
    {
      "cell_type": "code",
      "source": [
        "# @title 📖 Lesson 8: Encoding Categorical Variables\n",
        "data = {\n",
        "    \"Name\": [\"Alice\", \"Bob\", \"Charlie\", \"David\"],\n",
        "    \"Gender\": [\"Female\", \"Male\", \"Male\", \"Female\"],\n",
        "    \"Education\": [\"Bachelor\", \"Master\", \"PhD\", \"High School\"]\n",
        "}\n",
        "df=pd.DataFrame(data)\n",
        "print(f\"the orginal data {df}\")\n",
        "\n",
        "#Encoding ,Label\n",
        "df_encode=LabelEncoder()\n",
        "df[\"Gender_label\"]=df_encode.fit_transform(df[\"Gender\"])\n",
        "print(\"\\n the encoded is \\n\",df[\"Gender_label\"])\n",
        "#ordinal Encoding\n",
        "df_ordinal=OrdinalEncoder(categories=df[\"Education\"])\n",
        "print(df_ordinal)\n",
        "# One-Hot Encoding (Education)\n",
        "df_encoded = pd.get_dummies(df, columns=['Education'])\n",
        "print(df_encoded)\n"
      ],
      "metadata": {
        "colab": {
          "base_uri": "https://localhost:8080/"
        },
        "collapsed": true,
        "id": "KmBMDQVKlQf8",
        "outputId": "7d41cb34-5b40-44c9-cb62-cd3f43abbd52"
      },
      "execution_count": 53,
      "outputs": [
        {
          "output_type": "stream",
          "name": "stdout",
          "text": [
            "the orginal data       Name  Gender    Education\n",
            "0    Alice  Female     Bachelor\n",
            "1      Bob    Male       Master\n",
            "2  Charlie    Male          PhD\n",
            "3    David  Female  High School\n",
            "\n",
            " the encoded is \n",
            " 0    0\n",
            "1    1\n",
            "2    1\n",
            "3    0\n",
            "Name: Gender_label, dtype: int64\n",
            "OrdinalEncoder(categories=0       Bachelor\n",
            "1         Master\n",
            "2            PhD\n",
            "3    High School\n",
            "Name: Education, dtype: object)\n",
            "      Name  Gender  Gender_label  Education_Bachelor  Education_High School  \\\n",
            "0    Alice  Female             0                True                  False   \n",
            "1      Bob    Male             1               False                  False   \n",
            "2  Charlie    Male             1               False                  False   \n",
            "3    David  Female             0               False                   True   \n",
            "\n",
            "   Education_Master  Education_PhD  \n",
            "0             False          False  \n",
            "1              True          False  \n",
            "2             False           True  \n",
            "3             False          False  \n"
          ]
        }
      ]
    },
    {
      "cell_type": "code",
      "source": [
        "# @title 📖 Lesson 9: Feature Engineering Basics\n",
        "\n",
        "# Feature engineering is the art of creating better input features from raw data so that ML models can learn more effectively.\n",
        "# It’s often the biggest factor that separates good models from great ones.\n",
        "import pandas as pd\n",
        "\n",
        "# Sample dataset\n",
        "data = {\n",
        "    \"Name\": [\"Alice\", \"Bob\", \"Charlie\"],\n",
        "    \"Height_cm\": [160, 180, 175],\n",
        "    \"Weight_kg\": [55, 85, 77],\n",
        "    \"Signup_Date\": pd.to_datetime([\"2021-05-20\", \"2025-06-15\", \"2030-07-10\"])\n",
        "}\n",
        "\n",
        "df=pd.DataFrame(data)\n",
        "\n",
        "df['IBM']=df['Weight_kg']/df['Height_cm']\n",
        "print(df['IBM'])\n",
        "print(df.groupby('Name')['Signup_Date'].max())\n",
        "print(f\"\\n year={df['Signup_Date'].dt.year},\\n day: {df['Signup_Date'].dt.day},\\n month: {df['Signup_Date'].dt.month}\")"
      ],
      "metadata": {
        "colab": {
          "base_uri": "https://localhost:8080/"
        },
        "collapsed": true,
        "id": "1bReye4G-RDa",
        "outputId": "a1f7642d-49eb-4ebf-9f63-55433f8f3c19"
      },
      "execution_count": 71,
      "outputs": [
        {
          "output_type": "stream",
          "name": "stdout",
          "text": [
            "0    0.343750\n",
            "1    0.472222\n",
            "2    0.440000\n",
            "Name: IBM, dtype: float64\n",
            "Name\n",
            "Alice     2021-05-20\n",
            "Bob       2025-06-15\n",
            "Charlie   2030-07-10\n",
            "Name: Signup_Date, dtype: datetime64[ns]\n",
            "\n",
            " year=0    2021\n",
            "1    2025\n",
            "2    2030\n",
            "Name: Signup_Date, dtype: int32,\n",
            " day: 0    20\n",
            "1    15\n",
            "2    10\n",
            "Name: Signup_Date, dtype: int32,\n",
            " month: 0    5\n",
            "1    6\n",
            "2    7\n",
            "Name: Signup_Date, dtype: int32\n"
          ]
        }
      ]
    },
    {
      "cell_type": "code",
      "source": [
        "# @title 📖 Lesson 10: Descriptive Statistics in Data Analytics\n",
        "data = {\"Age\": [22, 25, 30, 35, 40, 100]}  # 100 is an outlier\n",
        "df = pd.DataFrame(data)\n",
        "\n",
        "print(df['Age'].mean(),df['Age'].mode()[0],df['Age'].median(),df['Age'].max(),df['Age'].min())\n",
        "\n"
      ],
      "metadata": {
        "colab": {
          "base_uri": "https://localhost:8080/"
        },
        "id": "T-fDVbnnFsMy",
        "outputId": "79f89457-26b8-4343-ab60-122b09316509"
      },
      "execution_count": 84,
      "outputs": [
        {
          "output_type": "stream",
          "name": "stdout",
          "text": [
            "42.0 22 32.5 100 22\n"
          ]
        }
      ]
    },
    {
      "cell_type": "code",
      "source": [
        "# @title 📖 Lesson 11: Correlation & Relationships Between Features\n",
        "\n",
        "import pandas as pd\n",
        "\n",
        "# Sample dataset\n",
        "data = {\n",
        "    \"Hours_Studied\": [1, 2, 3, 4, 5],\n",
        "    \"Exam_Score\": [50, 55, 65, 70, 85]\n",
        "}\n",
        "\n",
        "df=pd.DataFrame(data)\n",
        "corr=df['Hours_Studied'].corr(df['Exam_Score'])\n",
        "print(corr)\n",
        "\n"
      ],
      "metadata": {
        "colab": {
          "base_uri": "https://localhost:8080/"
        },
        "id": "VwVVrFmAKAg5",
        "outputId": "8e1fcb50-79be-4317-ffa7-07d4f7193c0c"
      },
      "execution_count": 88,
      "outputs": [
        {
          "output_type": "stream",
          "name": "stdout",
          "text": [
            "0.9814954576223637\n"
          ]
        }
      ]
    },
    {
      "cell_type": "code",
      "source": [
        "# @title 📖 Lesson 12: Data Visualization Basics\n",
        "\n",
        "# Numbers alone can be hard to interpret. Visualization makes patterns, trends, and outliers visible.\n",
        "# In data analytics & ML, plots help us understand data before modeling.\n",
        "\n",
        "# 🔑 Common Types of Plots\n",
        "\n",
        "# Histogram\n",
        "\n",
        "# Shows distribution of a single variable.\n",
        "\n",
        "# Example: Age distribution of customers.\n",
        "\n",
        "# Boxplot\n",
        "\n",
        "# Shows spread + outliers.\n",
        "\n",
        "# Example: Salary ranges with extreme values.\n",
        "\n",
        "# Scatter Plot\n",
        "\n",
        "# Shows relationship between two variables.\n",
        "\n",
        "# Example: Hours studied vs. Exam score.\n",
        "\n",
        "# Correlation Heatmap\n",
        "\n",
        "# Matrix showing correlations between all features.\n",
        "\n",
        "import pandas as pd\n",
        "import matplotlib.pyplot as plt\n",
        "import seaborn as sns\n",
        "\n",
        "# Example dataset\n",
        "df = pd.DataFrame({\n",
        "    \"Age\": [22, 25, 30, 35, 40, 100],  # outlier at 100\n",
        "    \"Salary\": [2000, 2500, 3000, 4000, 5000, 10000]\n",
        "})\n",
        "print((df[\"Age\"]).plot(title='Histogram Distribution',kind='hist',bins=5))\n",
        "plt.show()\n",
        "sns.boxplot(x=df['Salary'])\n",
        "plt.show()\n",
        "sns.scatterplot(x=df['Salary'])\n"
      ],
      "metadata": {
        "colab": {
          "base_uri": "https://localhost:8080/",
          "height": 1000
        },
        "collapsed": true,
        "id": "3tmoSCrROvcA",
        "outputId": "93c6c6e5-79d9-487c-c317-4aeb328ea348"
      },
      "execution_count": 4,
      "outputs": [
        {
          "output_type": "stream",
          "name": "stdout",
          "text": [
            "Axes(0.125,0.11;0.775x0.77)\n"
          ]
        },
        {
          "output_type": "display_data",
          "data": {
            "text/plain": [
              "<Figure size 640x480 with 1 Axes>"
            ],
            "image/png": "[encoded data removed]"
          },
          "metadata": {}
        },
        {
          "output_type": "display_data",
          "data": {
            "text/plain": [
              "<Figure size 640x480 with 1 Axes>"
            ],
            "image/png": "[encoded data removed]"
          },
          "metadata": {}
        },
        {
          "output_type": "execute_result",
          "data": {
            "text/plain": [
              "<Axes: xlabel='Salary'>"
            ]
          },
          "metadata": {},
          "execution_count": 4
        },
        {
          "output_type": "display_data",
          "data": {
            "text/plain": [
              "<Figure size 640x480 with 1 Axes>"
            ],
            "image/png": "[encoded data removed]"
          },
          "metadata": {}
        }
      ]
    },
    {
      "cell_type": "code",
      "source": [
        "# @title 📖 Lesson 13: Feature Scaling & Normalization\n",
        "\n",
        "# Many ML algorithms (like KNN, Logistic Regression, Neural Nets) use distance or gradient-based methods. If features are on very different scales, the model will give more importance to large numbers (Salary) and ignore smaller ones (Age).\n",
        "# Scaling prevents features with larger ranges from dominating.\n",
        "# Normalization (0–1 range) → best for bounded data, neural nets.\n",
        "# Standardization (mean=0, std=1) → best for algorithms assuming normal distribution (e.g., Logistic Regression, SVM).\n",
        "\n",
        "# Always scale features before distance-based models (KNN, K-means) or gradient-based models.\n",
        "\n",
        "# When building ML models, features often have different scales.\n",
        "\n",
        "# Example: Age → ranges from 18–70\n",
        "\n",
        "# Salary → ranges from 20,000–200,000\n",
        "\n",
        "# ⚠️ Problem: Many ML algorithms (like KNN, Logistic Regression, Neural Nets) use distance or gradient-based methods. If features are on very different scales, the model will give more importance to large numbers (Salary) and ignore smaller ones (Age).\n",
        "# ✅ Solution → Feature Scaling\n",
        "# 🔑 Common Methods\n",
        "# Normalization (Min-Max Scaling)\n",
        "# Rescales data between 0 and 1.\n",
        "# Example: Salary = 50,000 → becomes 0.3 (scaled between 0–1).\n",
        "# Standardization (Z-score Scaling)\n",
        "# Rescales data so that mean = 0, std dev = 1.\n",
        "# Example: Age = 30 → becomes -0.5 after scaling.\n",
        "\n",
        "\n",
        "\n",
        "import pandas as pd\n",
        "from sklearn.preprocessing import MinMaxScaler, StandardScaler\n",
        "\n",
        "# Sample data\n",
        "df = pd.DataFrame({\n",
        "    \"Age\": [18, 25, 30, 40, 50],\n",
        "    \"Salary\": [20000, 50000, 80000, 120000, 200000]\n",
        "})\n",
        "\n",
        "# Normalization (0–1)\n",
        "scaler = MinMaxScaler()\n",
        "df_norm = scaler.fit_transform(df)\n",
        "print(\"Normalized:\\n\", df_norm)\n",
        "\n",
        "# Standardization (mean=0, std=1)\n",
        "scaler = StandardScaler()\n",
        "df_std = scaler.fit_transform(df)\n",
        "print(\"Standardized:\\n\", df_std)\n"
      ],
      "metadata": {
        "colab": {
          "base_uri": "https://localhost:8080/"
        },
        "collapsed": true,
        "id": "eRUOpg9j8yrx",
        "outputId": "3908f755-cb05-42b1-bb8f-2885fe70b60b"
      },
      "execution_count": 21,
      "outputs": [
        {
          "output_type": "stream",
          "name": "stdout",
          "text": [
            "Normalized:\n",
            " [[0.         0.        ]\n",
            " [0.21875    0.16666667]\n",
            " [0.375      0.33333333]\n",
            " [0.6875     0.55555556]\n",
            " [1.         1.        ]]\n",
            "Standardized:\n",
            " [[-1.29533653 -1.18434114]\n",
            " [-0.67428477 -0.70420284]\n",
            " [-0.23067637 -0.22406454]\n",
            " [ 0.65654043  0.41611986]\n",
            " [ 1.54375723  1.69648866]]\n"
          ]
        }
      ]
    },
    {
      "cell_type": "code",
      "source": [
        "# @title 📖 Lesson 14: Handling Missing Data\n",
        "\n",
        "# In real-world datasets, missing values (NaN) are super common.\n",
        "\n",
        "# Example: A customer forgot to fill age in a survey.\n",
        "\n",
        "# Sensors stopped recording a few values.\n",
        "\n",
        "# Financial data has gaps on holidays.\n",
        "\n",
        "#Problem: Most ML models cannot handle missing values directly → they’ll throw errors or give biased results.\n",
        "\n",
        "import pandas as pd\n",
        "import numpy as np\n",
        "from sklearn.impute import SimpleImputer\n",
        "\n",
        "# Example dataset\n",
        "df = pd.DataFrame({\n",
        "    \"Age\": [25, 30, np.nan, 40, 35],\n",
        "    \"Salary\": [50000, np.nan, 60000, 80000, 75000],\n",
        "    \"Department\": [\"HR\", \"IT\", \"IT\", np.nan, \"Finance\"]\n",
        "})\n",
        "\n",
        "imputer = SimpleImputer(strategy=\"median\")\n",
        "df[\"Age\"] = imputer.fit_transform(df[[\"Age\"]])\n",
        "\n",
        "imputer = SimpleImputer(strategy=\"mean\")\n",
        "df[\"Salary\"] = imputer.fit_transform(df[[\"Salary\"]])\n",
        "\n",
        "imputer = SimpleImputer(strategy=\"most_frequent\")\n",
        "df[\"Department\"] = imputer.fit_transform(df[[\"Department\"]])[:,0]\n",
        "\n",
        "print(\"After impute\",df)"
      ],
      "metadata": {
        "colab": {
          "base_uri": "https://localhost:8080/"
        },
        "collapsed": true,
        "id": "61NIAKpd9sue",
        "outputId": "936d9532-f5d4-40a7-e942-a5c331662f8b"
      },
      "execution_count": 22,
      "outputs": [
        {
          "output_type": "stream",
          "name": "stdout",
          "text": [
            "After impute     Age   Salary Department\n",
            "0  25.0  50000.0         HR\n",
            "1  30.0  66250.0         IT\n",
            "2  32.5  60000.0         IT\n",
            "3  40.0  80000.0         IT\n",
            "4  35.0  75000.0    Finance\n"
          ]
        }
      ]
    },
    {
      "cell_type": "code",
      "source": [
        "# @title 📖 Lesson 15: Feature Encoding (Converting Categories to Numbers)\n",
        "\n",
        "# ML models work with numbers, not text. So categorical data like Gender = Male/Female or Department = HR/IT/Finance must be encoded.\n",
        "\n",
        "# 🔑 Two Main Methods\n",
        "\n",
        "# Label Encoding\n",
        "\n",
        "# Convert categories to numbers (Male=0, Female=1).\n",
        "\n",
        "# Works for ordinal data (where order matters, e.g., Small/Medium/Large).\n",
        "\n",
        "# ⚠️ Not safe for nominal data, because ML might think 2 > 1 has meaning.\n",
        "\n",
        "# One-Hot Encoding\n",
        "\n",
        "# Creates binary columns. Example:\n",
        "# Works for nominal data (no order).\n",
        "\n",
        "# Increases number of columns but avoids false ordering.\n",
        "\n",
        "\n",
        "import pandas as pd\n",
        "from sklearn.preprocessing import LabelEncoder\n",
        "\n",
        "df = pd.DataFrame({\n",
        "    \"Gender\": [\"Male\", \"Female\", \"Female\", \"Male\", \"Male\"],\n",
        "    \"Department\": [\"HR\", \"IT\", \"Finance\", \"IT\", \"HR\"]\n",
        "})\n",
        "\n",
        "print(\"Original Data:\\n\", df)\n",
        "\n",
        "# Label Encoding for Gender (ordinal-like small categories)\n",
        "le = LabelEncoder()\n",
        "df[\"Gender_encoded\"] = le.fit_transform(df[\"Gender\"])\n",
        "\n",
        "# One-Hot Encoding for Department (nominal, no order)\n",
        "df = pd.get_dummies(df, columns=[\"Department\"])\n",
        "\n",
        "print(\"\\nAfter Encoding:\\n\", df)\n"
      ],
      "metadata": {
        "colab": {
          "base_uri": "https://localhost:8080/"
        },
        "collapsed": true,
        "id": "e4ovDqI_J8yF",
        "outputId": "8fc76c13-5283-4449-e628-e0e6941537ad"
      },
      "execution_count": 20,
      "outputs": [
        {
          "output_type": "stream",
          "name": "stdout",
          "text": [
            "Original Data:\n",
            "    Gender Department\n",
            "0    Male         HR\n",
            "1  Female         IT\n",
            "2  Female    Finance\n",
            "3    Male         IT\n",
            "4    Male         HR\n",
            "\n",
            "After Encoding:\n",
            "    Gender  Gender_encoded  Department_Finance  Department_HR  Department_IT\n",
            "0    Male               1               False           True          False\n",
            "1  Female               0               False          False           True\n",
            "2  Female               0                True          False          False\n",
            "3    Male               1               False          False           True\n",
            "4    Male               1               False           True          False\n"
          ]
        }
      ]
    },
    {
      "cell_type": "code",
      "source": [
        "# @title END!"
      ],
      "metadata": {
        "id": "bkPoNsIhL6Rn"
      },
      "execution_count": null,
      "outputs": []
    }
  ],
  "metadata": {
    "colab": {
      "provenance": [],
      "include_colab_link": true
    },
    "kernelspec": {
      "display_name": "Python 3",
      "name": "python3"
    }
  },
  "nbformat": 4,
  "nbformat_minor": 0
}